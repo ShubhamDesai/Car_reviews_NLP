{
  "nbformat": 4,
  "nbformat_minor": 0,
  "metadata": {
    "colab": {
      "name": "NLP.ipynb",
      "provenance": []
    },
    "kernelspec": {
      "name": "python3",
      "display_name": "Python 3"
    }
  },
  "cells": [
    {
      "cell_type": "markdown",
      "metadata": {
        "id": "3QgpK0Wmg59x",
        "colab_type": "text"
      },
      "source": [
        "# New Section"
      ]
    },
    {
      "cell_type": "code",
      "metadata": {
        "id": "4ebk71dmpbdB",
        "colab_type": "code",
        "colab": {
          "resources": {
            "http://localhost:8080/nbextensions/google.colab/files.js": {
              "data": "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",
              "ok": true,
              "headers": [
                [
                  "content-type",
                  "application/javascript"
                ]
              ],
              "status": 200,
              "status_text": ""
            }
          },
          "base_uri": "https://localhost:8080/",
          "height": 73
        },
        "outputId": "ccd9fc0f-d4bc-43b2-cc62-ff9940ad9c31"
      },
      "source": [
        "from google.colab import files\n",
        "uploaded = files.upload()"
      ],
      "execution_count": null,
      "outputs": [
        {
          "output_type": "display_data",
          "data": {
            "text/html": [
              "\n",
              "     <input type=\"file\" id=\"files-38edf5da-33f6-406d-ad21-2e07414921e4\" name=\"files[]\" multiple disabled\n",
              "        style=\"border:none\" />\n",
              "     <output id=\"result-38edf5da-33f6-406d-ad21-2e07414921e4\">\n",
              "      Upload widget is only available when the cell has been executed in the\n",
              "      current browser session. Please rerun this cell to enable.\n",
              "      </output>\n",
              "      <script src=\"/nbextensions/google.colab/files.js\"></script> "
            ],
            "text/plain": [
              "<IPython.core.display.HTML object>"
            ]
          },
          "metadata": {
            "tags": []
          }
        },
        {
          "output_type": "stream",
          "text": [
            "Saving final.csv to final (1).csv\n"
          ],
          "name": "stdout"
        }
      ]
    },
    {
      "cell_type": "code",
      "metadata": {
        "id": "maN4D33VAddt",
        "colab_type": "code",
        "colab": {}
      },
      "source": [
        "import pandas as pd"
      ],
      "execution_count": null,
      "outputs": []
    },
    {
      "cell_type": "code",
      "metadata": {
        "id": "xdXTHXsF49hF",
        "colab_type": "code",
        "colab": {
          "base_uri": "https://localhost:8080/",
          "height": 67
        },
        "outputId": "19843cac-2dbf-424b-9c8b-bfbcee2e37f1"
      },
      "source": [
        "import nltk\n",
        "nltk.download('stopwords')"
      ],
      "execution_count": null,
      "outputs": [
        {
          "output_type": "stream",
          "text": [
            "[nltk_data] Downloading package stopwords to /root/nltk_data...\n",
            "[nltk_data]   Unzipping corpora/stopwords.zip.\n"
          ],
          "name": "stdout"
        },
        {
          "output_type": "execute_result",
          "data": {
            "text/plain": [
              "True"
            ]
          },
          "metadata": {
            "tags": []
          },
          "execution_count": 5
        }
      ]
    },
    {
      "cell_type": "code",
      "metadata": {
        "id": "8wdGEOmF5Bdu",
        "colab_type": "code",
        "colab": {}
      },
      "source": [
        "stop = stopwords.words('english')"
      ],
      "execution_count": null,
      "outputs": []
    },
    {
      "cell_type": "code",
      "metadata": {
        "id": "QI3LS42kz64D",
        "colab_type": "code",
        "colab": {}
      },
      "source": [
        "df=pd.read_csv('data.csv',lineterminator='\\n')"
      ],
      "execution_count": null,
      "outputs": []
    },
    {
      "cell_type": "code",
      "metadata": {
        "id": "5T7ovUR08J4T",
        "colab_type": "code",
        "colab": {
          "base_uri": "https://localhost:8080/",
          "height": 279
        },
        "outputId": "e0533ac9-72a7-4125-c222-8c47a9eedb69"
      },
      "source": [
        "df.head()"
      ],
      "execution_count": null,
      "outputs": [
        {
          "output_type": "execute_result",
          "data": {
            "text/html": [
              "<div>\n",
              "<style scoped>\n",
              "    .dataframe tbody tr th:only-of-type {\n",
              "        vertical-align: middle;\n",
              "    }\n",
              "\n",
              "    .dataframe tbody tr th {\n",
              "        vertical-align: top;\n",
              "    }\n",
              "\n",
              "    .dataframe thead th {\n",
              "        text-align: right;\n",
              "    }\n",
              "</style>\n",
              "<table border=\"1\" class=\"dataframe\">\n",
              "  <thead>\n",
              "    <tr style=\"text-align: right;\">\n",
              "      <th></th>\n",
              "      <th>Review_Date</th>\n",
              "      <th>Author_Name</th>\n",
              "      <th>Vehicle_Title</th>\n",
              "      <th>Review_Title</th>\n",
              "      <th>Review</th>\n",
              "      <th>Rating\\r</th>\n",
              "    </tr>\n",
              "  </thead>\n",
              "  <tbody>\n",
              "    <tr>\n",
              "      <th>0</th>\n",
              "      <td>on 10/13/05 15:30 PM (PDT)</td>\n",
              "      <td>roadking</td>\n",
              "      <td>2002 Dodge Ram Cargo Van 1500 3dr Van (3.9L 6c...</td>\n",
              "      <td>Great delivery vehicle</td>\n",
              "      <td>It's been a great delivery vehicle for my caf...</td>\n",
              "      <td>4.625</td>\n",
              "    </tr>\n",
              "    <tr>\n",
              "      <th>1</th>\n",
              "      <td>on 07/17/05 21:59 PM (PDT)</td>\n",
              "      <td>Mark</td>\n",
              "      <td>2002 Dodge Ram Cargo Van 3500 3dr Ext Van (5.2...</td>\n",
              "      <td>Disappointmnet</td>\n",
              "      <td>Bought this car as a commuter vehicle for a v...</td>\n",
              "      <td>2.125</td>\n",
              "    </tr>\n",
              "    <tr>\n",
              "      <th>2</th>\n",
              "      <td>on 07/16/02 00:00 AM (PDT)</td>\n",
              "      <td>Tom Sheer</td>\n",
              "      <td>2002 Dodge Ram Cargo Van 3500 Maxi 3dr Ext Van...</td>\n",
              "      <td>Sweet van</td>\n",
              "      <td>This van rocks its the best, lots of \\rroom. ...</td>\n",
              "      <td>5.000</td>\n",
              "    </tr>\n",
              "    <tr>\n",
              "      <th>3</th>\n",
              "      <td>on 12/29/07 21:57 PM (PST)</td>\n",
              "      <td>Keven Smith</td>\n",
              "      <td>2001 Dodge Ram Cargo Van 2500 Maxi 3dr Ext Van...</td>\n",
              "      <td>Keven Smith</td>\n",
              "      <td>Great work vehicle. Drives nice. has lots of ...</td>\n",
              "      <td>4.500</td>\n",
              "    </tr>\n",
              "    <tr>\n",
              "      <th>4</th>\n",
              "      <td>on 02/09/05 18:52 PM (PST)</td>\n",
              "      <td>VanMan</td>\n",
              "      <td>2001 Dodge Ram Cargo Van 1500 3dr Van (3.9L 6c...</td>\n",
              "      <td>Not what Dodge used to be</td>\n",
              "      <td>Good solid frame and suspension.  Well equipp...</td>\n",
              "      <td>2.875</td>\n",
              "    </tr>\n",
              "  </tbody>\n",
              "</table>\n",
              "</div>"
            ],
            "text/plain": [
              "                   Review_Date  ... Rating\\r\n",
              "0   on 10/13/05 15:30 PM (PDT)  ...    4.625\n",
              "1   on 07/17/05 21:59 PM (PDT)  ...    2.125\n",
              "2   on 07/16/02 00:00 AM (PDT)  ...    5.000\n",
              "3   on 12/29/07 21:57 PM (PST)  ...    4.500\n",
              "4   on 02/09/05 18:52 PM (PST)  ...    2.875\n",
              "\n",
              "[5 rows x 6 columns]"
            ]
          },
          "metadata": {
            "tags": []
          },
          "execution_count": 50
        }
      ]
    },
    {
      "cell_type": "code",
      "metadata": {
        "id": "ddJloyt0817H",
        "colab_type": "code",
        "colab": {}
      },
      "source": [
        "import tensorflow as tf\n",
        "import numpy as np\n",
        "from tensorflow import keras\n",
        "import re"
      ],
      "execution_count": null,
      "outputs": []
    },
    {
      "cell_type": "code",
      "metadata": {
        "id": "VLNGmsEpA2GA",
        "colab_type": "code",
        "colab": {}
      },
      "source": [
        "df.dropna(inplace=True)"
      ],
      "execution_count": null,
      "outputs": []
    },
    {
      "cell_type": "code",
      "metadata": {
        "id": "HQ3FysKoA69i",
        "colab_type": "code",
        "colab": {}
      },
      "source": [
        "df['joint_review']=df['Review_Title']+df['Review']"
      ],
      "execution_count": null,
      "outputs": []
    },
    {
      "cell_type": "code",
      "metadata": {
        "id": "TVGbuM2TBBO-",
        "colab_type": "code",
        "colab": {
          "base_uri": "https://localhost:8080/",
          "height": 279
        },
        "outputId": "560b227b-6d15-4f9f-829a-d3dd3bc2a525"
      },
      "source": [
        "df.head()"
      ],
      "execution_count": null,
      "outputs": [
        {
          "output_type": "execute_result",
          "data": {
            "text/html": [
              "<div>\n",
              "<style scoped>\n",
              "    .dataframe tbody tr th:only-of-type {\n",
              "        vertical-align: middle;\n",
              "    }\n",
              "\n",
              "    .dataframe tbody tr th {\n",
              "        vertical-align: top;\n",
              "    }\n",
              "\n",
              "    .dataframe thead th {\n",
              "        text-align: right;\n",
              "    }\n",
              "</style>\n",
              "<table border=\"1\" class=\"dataframe\">\n",
              "  <thead>\n",
              "    <tr style=\"text-align: right;\">\n",
              "      <th></th>\n",
              "      <th>Review_Date</th>\n",
              "      <th>Author_Name</th>\n",
              "      <th>Vehicle_Title</th>\n",
              "      <th>Review_Title</th>\n",
              "      <th>Review</th>\n",
              "      <th>Rating\\r</th>\n",
              "      <th>joint_review</th>\n",
              "    </tr>\n",
              "  </thead>\n",
              "  <tbody>\n",
              "    <tr>\n",
              "      <th>0</th>\n",
              "      <td>on 10/13/05 15:30 PM (PDT)</td>\n",
              "      <td>roadking</td>\n",
              "      <td>2002 Dodge Ram Cargo Van 1500 3dr Van (3.9L 6c...</td>\n",
              "      <td>Great delivery vehicle</td>\n",
              "      <td>It's been a great delivery vehicle for my caf...</td>\n",
              "      <td>4.625</td>\n",
              "      <td>Great delivery vehicle It's been a great deliv...</td>\n",
              "    </tr>\n",
              "    <tr>\n",
              "      <th>1</th>\n",
              "      <td>on 07/17/05 21:59 PM (PDT)</td>\n",
              "      <td>Mark</td>\n",
              "      <td>2002 Dodge Ram Cargo Van 3500 3dr Ext Van (5.2...</td>\n",
              "      <td>Disappointmnet</td>\n",
              "      <td>Bought this car as a commuter vehicle for a v...</td>\n",
              "      <td>2.125</td>\n",
              "      <td>Disappointmnet Bought this car as a commuter v...</td>\n",
              "    </tr>\n",
              "    <tr>\n",
              "      <th>2</th>\n",
              "      <td>on 07/16/02 00:00 AM (PDT)</td>\n",
              "      <td>Tom Sheer</td>\n",
              "      <td>2002 Dodge Ram Cargo Van 3500 Maxi 3dr Ext Van...</td>\n",
              "      <td>Sweet van</td>\n",
              "      <td>This van rocks its the best, lots of \\rroom. ...</td>\n",
              "      <td>5.000</td>\n",
              "      <td>Sweet van This van rocks its the best, lots of...</td>\n",
              "    </tr>\n",
              "    <tr>\n",
              "      <th>3</th>\n",
              "      <td>on 12/29/07 21:57 PM (PST)</td>\n",
              "      <td>Keven Smith</td>\n",
              "      <td>2001 Dodge Ram Cargo Van 2500 Maxi 3dr Ext Van...</td>\n",
              "      <td>Keven Smith</td>\n",
              "      <td>Great work vehicle. Drives nice. has lots of ...</td>\n",
              "      <td>4.500</td>\n",
              "      <td>Keven Smith Great work vehicle. Drives nice. h...</td>\n",
              "    </tr>\n",
              "    <tr>\n",
              "      <th>4</th>\n",
              "      <td>on 02/09/05 18:52 PM (PST)</td>\n",
              "      <td>VanMan</td>\n",
              "      <td>2001 Dodge Ram Cargo Van 1500 3dr Van (3.9L 6c...</td>\n",
              "      <td>Not what Dodge used to be</td>\n",
              "      <td>Good solid frame and suspension.  Well equipp...</td>\n",
              "      <td>2.875</td>\n",
              "      <td>Not what Dodge used to be Good solid frame and...</td>\n",
              "    </tr>\n",
              "  </tbody>\n",
              "</table>\n",
              "</div>"
            ],
            "text/plain": [
              "                   Review_Date  ...                                       joint_review\n",
              "0   on 10/13/05 15:30 PM (PDT)  ...  Great delivery vehicle It's been a great deliv...\n",
              "1   on 07/17/05 21:59 PM (PDT)  ...  Disappointmnet Bought this car as a commuter v...\n",
              "2   on 07/16/02 00:00 AM (PDT)  ...  Sweet van This van rocks its the best, lots of...\n",
              "3   on 12/29/07 21:57 PM (PST)  ...  Keven Smith Great work vehicle. Drives nice. h...\n",
              "4   on 02/09/05 18:52 PM (PST)  ...  Not what Dodge used to be Good solid frame and...\n",
              "\n",
              "[5 rows x 7 columns]"
            ]
          },
          "metadata": {
            "tags": []
          },
          "execution_count": 54
        }
      ]
    },
    {
      "cell_type": "code",
      "metadata": {
        "id": "Tv-CtlmIBC2k",
        "colab_type": "code",
        "colab": {}
      },
      "source": [
        "df['Sentiments']=np.where(df['Rating\\r']>=4.0,1,0)"
      ],
      "execution_count": null,
      "outputs": []
    },
    {
      "cell_type": "code",
      "metadata": {
        "id": "ijDlLOVMBOVb",
        "colab_type": "code",
        "colab": {}
      },
      "source": [
        "df = df[['joint_review','Sentiments']]"
      ],
      "execution_count": null,
      "outputs": []
    },
    {
      "cell_type": "code",
      "metadata": {
        "id": "8iGZcJkRC0St",
        "colab_type": "code",
        "colab": {
          "base_uri": "https://localhost:8080/",
          "height": 402
        },
        "outputId": "9d28051c-39d5-47f4-d086-291c3f8241e7"
      },
      "source": [
        "df"
      ],
      "execution_count": null,
      "outputs": [
        {
          "output_type": "execute_result",
          "data": {
            "text/html": [
              "<div>\n",
              "<style scoped>\n",
              "    .dataframe tbody tr th:only-of-type {\n",
              "        vertical-align: middle;\n",
              "    }\n",
              "\n",
              "    .dataframe tbody tr th {\n",
              "        vertical-align: top;\n",
              "    }\n",
              "\n",
              "    .dataframe thead th {\n",
              "        text-align: right;\n",
              "    }\n",
              "</style>\n",
              "<table border=\"1\" class=\"dataframe\">\n",
              "  <thead>\n",
              "    <tr style=\"text-align: right;\">\n",
              "      <th></th>\n",
              "      <th>joint_review</th>\n",
              "      <th>Sentiments</th>\n",
              "    </tr>\n",
              "  </thead>\n",
              "  <tbody>\n",
              "    <tr>\n",
              "      <th>0</th>\n",
              "      <td>Great delivery vehicle It's been a great deliv...</td>\n",
              "      <td>1</td>\n",
              "    </tr>\n",
              "    <tr>\n",
              "      <th>1</th>\n",
              "      <td>Disappointmnet Bought this car as a commuter v...</td>\n",
              "      <td>0</td>\n",
              "    </tr>\n",
              "    <tr>\n",
              "      <th>2</th>\n",
              "      <td>Sweet van This van rocks its the best, lots of...</td>\n",
              "      <td>1</td>\n",
              "    </tr>\n",
              "    <tr>\n",
              "      <th>3</th>\n",
              "      <td>Keven Smith Great work vehicle. Drives nice. h...</td>\n",
              "      <td>1</td>\n",
              "    </tr>\n",
              "    <tr>\n",
              "      <th>4</th>\n",
              "      <td>Not what Dodge used to be Good solid frame and...</td>\n",
              "      <td>0</td>\n",
              "    </tr>\n",
              "    <tr>\n",
              "      <th>...</th>\n",
              "      <td>...</td>\n",
              "      <td>...</td>\n",
              "    </tr>\n",
              "    <tr>\n",
              "      <th>215368</th>\n",
              "      <td>What a car! My first NEW car in many years. \\r...</td>\n",
              "      <td>1</td>\n",
              "    </tr>\n",
              "    <tr>\n",
              "      <th>215369</th>\n",
              "      <td>AWFUL Quality and Reliability This car has a n...</td>\n",
              "      <td>0</td>\n",
              "    </tr>\n",
              "    <tr>\n",
              "      <th>215370</th>\n",
              "      <td>BAD EXPERIENCE WE LIKED HOW THE CAR HANDLES AN...</td>\n",
              "      <td>0</td>\n",
              "    </tr>\n",
              "    <tr>\n",
              "      <th>215371</th>\n",
              "      <td>Nice Design Poor Build My 300M is a nicely des...</td>\n",
              "      <td>0</td>\n",
              "    </tr>\n",
              "    <tr>\n",
              "      <th>215372</th>\n",
              "      <td>2003 Special I took advantage of the 0% financ...</td>\n",
              "      <td>1</td>\n",
              "    </tr>\n",
              "  </tbody>\n",
              "</table>\n",
              "<p>215373 rows × 2 columns</p>\n",
              "</div>"
            ],
            "text/plain": [
              "                                             joint_review  Sentiments\n",
              "0       Great delivery vehicle It's been a great deliv...           1\n",
              "1       Disappointmnet Bought this car as a commuter v...           0\n",
              "2       Sweet van This van rocks its the best, lots of...           1\n",
              "3       Keven Smith Great work vehicle. Drives nice. h...           1\n",
              "4       Not what Dodge used to be Good solid frame and...           0\n",
              "...                                                   ...         ...\n",
              "215368  What a car! My first NEW car in many years. \\r...           1\n",
              "215369  AWFUL Quality and Reliability This car has a n...           0\n",
              "215370  BAD EXPERIENCE WE LIKED HOW THE CAR HANDLES AN...           0\n",
              "215371  Nice Design Poor Build My 300M is a nicely des...           0\n",
              "215372  2003 Special I took advantage of the 0% financ...           1\n",
              "\n",
              "[215373 rows x 2 columns]"
            ]
          },
          "metadata": {
            "tags": []
          },
          "execution_count": 57
        }
      ]
    },
    {
      "cell_type": "code",
      "metadata": {
        "id": "II2CnSwuDaeZ",
        "colab_type": "code",
        "colab": {}
      },
      "source": [
        "df['joint_review']=df['joint_review'].apply((lambda x: re.sub('[^a-zA-z0-9\\s]','',x)))"
      ],
      "execution_count": null,
      "outputs": []
    },
    {
      "cell_type": "code",
      "metadata": {
        "id": "AiIZQbooIAeF",
        "colab_type": "code",
        "colab": {
          "base_uri": "https://localhost:8080/",
          "height": 218
        },
        "outputId": "2159d062-3686-43ee-fb7d-493875b8dcba"
      },
      "source": [
        "df['joint_review']"
      ],
      "execution_count": null,
      "outputs": [
        {
          "output_type": "execute_result",
          "data": {
            "text/plain": [
              "0         Great delivery vehicle Its been a great delive...\n",
              "1         Disappointmnet Bought this car as a commuter v...\n",
              "2         Sweet van This van rocks its the best lots of ...\n",
              "3         Keven Smith Great work vehicle Drives nice has...\n",
              "4         Not what Dodge used to be Good solid frame and...\n",
              "                                ...                        \n",
              "215368    What a car My first NEW car in many years \\rCo...\n",
              "215369    AWFUL Quality and Reliability This car has a n...\n",
              "215370    BAD EXPERIENCE WE LIKED HOW THE CAR HANDLES AN...\n",
              "215371    Nice Design Poor Build My 300M is a nicely des...\n",
              "215372    2003 Special I took advantage of the 0 finance...\n",
              "Name: joint_review, Length: 215373, dtype: object"
            ]
          },
          "metadata": {
            "tags": []
          },
          "execution_count": 59
        }
      ]
    },
    {
      "cell_type": "code",
      "metadata": {
        "id": "qYmhqzBrDg3e",
        "colab_type": "code",
        "colab": {}
      },
      "source": [
        "df['joint_review']=df['joint_review'].str.lower()"
      ],
      "execution_count": null,
      "outputs": []
    },
    {
      "cell_type": "code",
      "metadata": {
        "id": "rnRzu1s8IVRW",
        "colab_type": "code",
        "colab": {
          "base_uri": "https://localhost:8080/",
          "height": 218
        },
        "outputId": "2c10d6cd-3899-485e-b6a9-a91bdc4b15ff"
      },
      "source": [
        "df['joint_review']"
      ],
      "execution_count": null,
      "outputs": [
        {
          "output_type": "execute_result",
          "data": {
            "text/plain": [
              "0         great delivery vehicle its been a great delive...\n",
              "1         disappointmnet bought this car as a commuter v...\n",
              "2         sweet van this van rocks its the best lots of ...\n",
              "3         keven smith great work vehicle drives nice has...\n",
              "4         not what dodge used to be good solid frame and...\n",
              "                                ...                        \n",
              "215368    what a car my first new car in many years \\rco...\n",
              "215369    awful quality and reliability this car has a n...\n",
              "215370    bad experience we liked how the car handles an...\n",
              "215371    nice design poor build my 300m is a nicely des...\n",
              "215372    2003 special i took advantage of the 0 finance...\n",
              "Name: joint_review, Length: 215373, dtype: object"
            ]
          },
          "metadata": {
            "tags": []
          },
          "execution_count": 61
        }
      ]
    },
    {
      "cell_type": "code",
      "metadata": {
        "id": "cShQGjJw5Otc",
        "colab_type": "code",
        "colab": {}
      },
      "source": [
        "df['joint_review']=df['joint_review'].apply(lambda x: ' '.join(i for i in x.split() if i not in stop) )"
      ],
      "execution_count": null,
      "outputs": []
    },
    {
      "cell_type": "code",
      "metadata": {
        "id": "9H-IqYFYCXoY",
        "colab_type": "code",
        "colab": {
          "base_uri": "https://localhost:8080/",
          "height": 218
        },
        "outputId": "40997a42-1d8e-4d85-9f00-9767fc3f2b7c"
      },
      "source": [
        "df['joint_review']"
      ],
      "execution_count": null,
      "outputs": [
        {
          "output_type": "execute_result",
          "data": {
            "text/plain": [
              "0         great delivery vehicle great delivery vehicle ...\n",
              "1         disappointmnet bought car commuter vehicle van...\n",
              "2         sweet van van rocks best lots room carry lot c...\n",
              "3         keven smith great work vehicle drives nice lot...\n",
              "4         dodge used good solid frame suspension well eq...\n",
              "                                ...                        \n",
              "215368    car first new car many years comfortable roomy...\n",
              "215369    awful quality reliability car nice design buil...\n",
              "215370    bad experience liked car handles drives alwaye...\n",
              "215371    nice design poor build 300m nicely designed ca...\n",
              "215372    2003 special took advantage 0 finance looking ...\n",
              "Name: joint_review, Length: 215373, dtype: object"
            ]
          },
          "metadata": {
            "tags": []
          },
          "execution_count": 64
        }
      ]
    },
    {
      "cell_type": "code",
      "metadata": {
        "id": "v1OkCZ_nCt4e",
        "colab_type": "code",
        "colab": {
          "base_uri": "https://localhost:8080/",
          "height": 54
        },
        "outputId": "fd4e9430-9f3f-436e-bf49-809f348388e1"
      },
      "source": [
        "print(stop)"
      ],
      "execution_count": null,
      "outputs": [
        {
          "output_type": "stream",
          "text": [
            "['i', 'me', 'my', 'myself', 'we', 'our', 'ours', 'ourselves', 'you', \"you're\", \"you've\", \"you'll\", \"you'd\", 'your', 'yours', 'yourself', 'yourselves', 'he', 'him', 'his', 'himself', 'she', \"she's\", 'her', 'hers', 'herself', 'it', \"it's\", 'its', 'itself', 'they', 'them', 'their', 'theirs', 'themselves', 'what', 'which', 'who', 'whom', 'this', 'that', \"that'll\", 'these', 'those', 'am', 'is', 'are', 'was', 'were', 'be', 'been', 'being', 'have', 'has', 'had', 'having', 'do', 'does', 'did', 'doing', 'a', 'an', 'the', 'and', 'but', 'if', 'or', 'because', 'as', 'until', 'while', 'of', 'at', 'by', 'for', 'with', 'about', 'against', 'between', 'into', 'through', 'during', 'before', 'after', 'above', 'below', 'to', 'from', 'up', 'down', 'in', 'out', 'on', 'off', 'over', 'under', 'again', 'further', 'then', 'once', 'here', 'there', 'when', 'where', 'why', 'how', 'all', 'any', 'both', 'each', 'few', 'more', 'most', 'other', 'some', 'such', 'no', 'nor', 'not', 'only', 'own', 'same', 'so', 'than', 'too', 'very', 's', 't', 'can', 'will', 'just', 'don', \"don't\", 'should', \"should've\", 'now', 'd', 'll', 'm', 'o', 're', 've', 'y', 'ain', 'aren', \"aren't\", 'couldn', \"couldn't\", 'didn', \"didn't\", 'doesn', \"doesn't\", 'hadn', \"hadn't\", 'hasn', \"hasn't\", 'haven', \"haven't\", 'isn', \"isn't\", 'ma', 'mightn', \"mightn't\", 'mustn', \"mustn't\", 'needn', \"needn't\", 'shan', \"shan't\", 'shouldn', \"shouldn't\", 'wasn', \"wasn't\", 'weren', \"weren't\", 'won', \"won't\", 'wouldn', \"wouldn't\"]\n"
          ],
          "name": "stdout"
        }
      ]
    },
    {
      "cell_type": "code",
      "metadata": {
        "id": "X9WOpWSgDk0V",
        "colab_type": "code",
        "colab": {}
      },
      "source": [
        "from tensorflow.keras.preprocessing.text import Tokenizer\n",
        "from tensorflow.keras.preprocessing.sequence import pad_sequences"
      ],
      "execution_count": null,
      "outputs": []
    },
    {
      "cell_type": "code",
      "metadata": {
        "id": "NjGkBUtuDs6e",
        "colab_type": "code",
        "colab": {}
      },
      "source": [
        "vocab_size = 50000\n",
        "embedding_dim=16\n",
        "max_length=50\n",
        "trunc_type='post'\n",
        "oov_tok=\"<oov>\""
      ],
      "execution_count": null,
      "outputs": []
    },
    {
      "cell_type": "code",
      "metadata": {
        "id": "zazNLmYoFEYF",
        "colab_type": "code",
        "colab": {
          "base_uri": "https://localhost:8080/",
          "height": 34
        },
        "outputId": "7b29c9d1-56c1-4f9b-9fcc-873c3892d9a0"
      },
      "source": [
        "from keras.layers import Dense, Embedding, LSTM, SpatialDropout1D"
      ],
      "execution_count": null,
      "outputs": [
        {
          "output_type": "stream",
          "text": [
            "Using TensorFlow backend.\n"
          ],
          "name": "stderr"
        }
      ]
    },
    {
      "cell_type": "code",
      "metadata": {
        "id": "OwU2M_3cFipb",
        "colab_type": "code",
        "colab": {}
      },
      "source": [
        "X=df['joint_review']\n",
        "y=df['Sentiments']"
      ],
      "execution_count": null,
      "outputs": []
    },
    {
      "cell_type": "code",
      "metadata": {
        "id": "N4iSgLaqI_6W",
        "colab_type": "code",
        "colab": {
          "base_uri": "https://localhost:8080/",
          "height": 218
        },
        "outputId": "ddb842c1-cb0a-4ad5-b67c-af08d9cf24a2"
      },
      "source": [
        "X"
      ],
      "execution_count": null,
      "outputs": [
        {
          "output_type": "execute_result",
          "data": {
            "text/plain": [
              "0         great delivery vehicle great delivery vehicle ...\n",
              "1         disappointmnet bought car commuter vehicle van...\n",
              "2         sweet van van rocks best lots room carry lot c...\n",
              "3         keven smith great work vehicle drives nice lot...\n",
              "4         dodge used good solid frame suspension well eq...\n",
              "                                ...                        \n",
              "215368    car first new car many years comfortable roomy...\n",
              "215369    awful quality reliability car nice design buil...\n",
              "215370    bad experience liked car handles drives alwaye...\n",
              "215371    nice design poor build 300m nicely designed ca...\n",
              "215372    2003 special took advantage 0 finance looking ...\n",
              "Name: joint_review, Length: 215373, dtype: object"
            ]
          },
          "metadata": {
            "tags": []
          },
          "execution_count": 70
        }
      ]
    },
    {
      "cell_type": "code",
      "metadata": {
        "id": "UM4djHmEJAoR",
        "colab_type": "code",
        "colab": {
          "base_uri": "https://localhost:8080/",
          "height": 218
        },
        "outputId": "71468359-5566-48ef-bd53-17202360c701"
      },
      "source": [
        "y"
      ],
      "execution_count": null,
      "outputs": [
        {
          "output_type": "execute_result",
          "data": {
            "text/plain": [
              "0         1\n",
              "1         0\n",
              "2         1\n",
              "3         1\n",
              "4         0\n",
              "         ..\n",
              "215368    1\n",
              "215369    0\n",
              "215370    0\n",
              "215371    0\n",
              "215372    1\n",
              "Name: Sentiments, Length: 215373, dtype: int64"
            ]
          },
          "metadata": {
            "tags": []
          },
          "execution_count": 71
        }
      ]
    },
    {
      "cell_type": "code",
      "metadata": {
        "id": "L9dAFB7zGz-M",
        "colab_type": "code",
        "colab": {}
      },
      "source": [
        "from sklearn.model_selection import train_test_split"
      ],
      "execution_count": null,
      "outputs": []
    },
    {
      "cell_type": "code",
      "metadata": {
        "id": "GxlX7B0CHD5e",
        "colab_type": "code",
        "colab": {}
      },
      "source": [
        "X_train, X_test, y_train, y_test = train_test_split(X, y, test_size=0.3, random_state=101)"
      ],
      "execution_count": null,
      "outputs": []
    },
    {
      "cell_type": "code",
      "metadata": {
        "id": "rpw9XstEJaBi",
        "colab_type": "code",
        "colab": {}
      },
      "source": [
        "tokenizer = Tokenizer(num_words=vocab_size,oov_token=oov_tok, split=' ')\n",
        "tokenizer.fit_on_texts(X_train)\n",
        "sequences = tokenizer.texts_to_sequences(X_train)\n",
        "padded= pad_sequences(sequences,maxlen=max_length,truncating=trunc_type)"
      ],
      "execution_count": null,
      "outputs": []
    },
    {
      "cell_type": "code",
      "metadata": {
        "id": "uE3P0hiHJz_1",
        "colab_type": "code",
        "colab": {}
      },
      "source": [
        "testing_sequences = tokenizer.texts_to_sequences(X_test)\n",
        "testing_padded= pad_sequences(testing_sequences,maxlen=max_length,truncating=trunc_type)"
      ],
      "execution_count": null,
      "outputs": []
    },
    {
      "cell_type": "code",
      "metadata": {
        "id": "X8MoSMkUFSWd",
        "colab_type": "code",
        "colab": {}
      },
      "source": [
        "model=tf.keras.Sequential([\n",
        "    tf.keras.layers.Embedding(vocab_size,embedding_dim,input_length=max_length),\n",
        "    tf.keras.layers.Bidirectional(tf.keras.layers.LSTM(64,return_sequences=True)),\n",
        "    tf.keras.layers.Bidirectional(tf.keras.layers.LSTM(32)),\n",
        "    tf.keras.layers.Dense(64,activation='relu'),\n",
        "    tf.keras.layers.Dense(1,activation='sigmoid')\n",
        "    \n",
        "])"
      ],
      "execution_count": null,
      "outputs": []
    },
    {
      "cell_type": "code",
      "metadata": {
        "id": "1us9ESEqJyKL",
        "colab_type": "code",
        "colab": {
          "base_uri": "https://localhost:8080/",
          "height": 319
        },
        "outputId": "56b5ab66-b135-400b-b04a-ae8ad9e9e005"
      },
      "source": [
        "model.summary()"
      ],
      "execution_count": null,
      "outputs": [
        {
          "output_type": "stream",
          "text": [
            "Model: \"sequential\"\n",
            "_________________________________________________________________\n",
            "Layer (type)                 Output Shape              Param #   \n",
            "=================================================================\n",
            "embedding (Embedding)        (None, 50, 16)            800000    \n",
            "_________________________________________________________________\n",
            "bidirectional (Bidirectional (None, 50, 128)           41472     \n",
            "_________________________________________________________________\n",
            "bidirectional_1 (Bidirection (None, 64)                41216     \n",
            "_________________________________________________________________\n",
            "dense (Dense)                (None, 64)                4160      \n",
            "_________________________________________________________________\n",
            "dense_1 (Dense)              (None, 1)                 65        \n",
            "=================================================================\n",
            "Total params: 886,913\n",
            "Trainable params: 886,913\n",
            "Non-trainable params: 0\n",
            "_________________________________________________________________\n"
          ],
          "name": "stdout"
        }
      ]
    },
    {
      "cell_type": "code",
      "metadata": {
        "id": "RE9PX-OtFeSm",
        "colab_type": "code",
        "colab": {}
      },
      "source": [
        "model.compile(loss='binary_crossentropy',optimizer='adam',metrics=['accuracy'])"
      ],
      "execution_count": null,
      "outputs": []
    },
    {
      "cell_type": "code",
      "metadata": {
        "id": "J1pGIPYm6inh",
        "colab_type": "code",
        "colab": {
          "base_uri": "https://localhost:8080/",
          "height": 370
        },
        "outputId": "b2337e48-037d-4308-abf0-ed084b3bce84"
      },
      "source": [
        "\n",
        "model.fit(padded,y_train,epochs=10,validation_data=(testing_padded,y_test))"
      ],
      "execution_count": null,
      "outputs": [
        {
          "output_type": "stream",
          "text": [
            "Epoch 1/10\n",
            "4712/4712 [==============================] - 482s 102ms/step - loss: 0.2836 - accuracy: 0.8884 - val_loss: 0.2647 - val_accuracy: 0.8933\n",
            "Epoch 2/10\n",
            "4712/4712 [==============================] - 479s 102ms/step - loss: 0.2345 - accuracy: 0.9087 - val_loss: 0.2683 - val_accuracy: 0.8936\n",
            "Epoch 3/10\n",
            "4712/4712 [==============================] - 479s 102ms/step - loss: 0.2025 - accuracy: 0.9225 - val_loss: 0.2748 - val_accuracy: 0.8940\n",
            "Epoch 4/10\n",
            "4712/4712 [==============================] - 479s 102ms/step - loss: 0.1671 - accuracy: 0.9365 - val_loss: 0.3046 - val_accuracy: 0.8875\n",
            "Epoch 5/10\n",
            "4712/4712 [==============================] - 483s 103ms/step - loss: 0.1315 - accuracy: 0.9506 - val_loss: 0.3979 - val_accuracy: 0.8761\n",
            "Epoch 6/10\n",
            "4712/4712 [==============================] - 483s 102ms/step - loss: 0.0993 - accuracy: 0.9632 - val_loss: 0.4394 - val_accuracy: 0.8767\n",
            "Epoch 7/10\n",
            "4712/4712 [==============================] - 481s 102ms/step - loss: 0.0738 - accuracy: 0.9727 - val_loss: 0.5491 - val_accuracy: 0.8625\n",
            "Epoch 8/10\n",
            "4712/4712 [==============================] - 475s 101ms/step - loss: 0.0548 - accuracy: 0.9803 - val_loss: 0.6079 - val_accuracy: 0.8699\n",
            "Epoch 9/10\n",
            "4712/4712 [==============================] - 473s 100ms/step - loss: 0.0410 - accuracy: 0.9856 - val_loss: 0.7161 - val_accuracy: 0.8534\n",
            "Epoch 10/10\n",
            "4712/4712 [==============================] - 471s 100ms/step - loss: 0.0317 - accuracy: 0.9888 - val_loss: 0.8488 - val_accuracy: 0.8616\n"
          ],
          "name": "stdout"
        },
        {
          "output_type": "execute_result",
          "data": {
            "text/plain": [
              "<tensorflow.python.keras.callbacks.History at 0x7fc0c448c160>"
            ]
          },
          "metadata": {
            "tags": []
          },
          "execution_count": 80
        }
      ]
    },
    {
      "cell_type": "code",
      "metadata": {
        "id": "_bRtwa6GKjLu",
        "colab_type": "code",
        "colab": {}
      },
      "source": [
        "model.save('Car_NLP.h5')"
      ],
      "execution_count": null,
      "outputs": []
    },
    {
      "cell_type": "code",
      "metadata": {
        "id": "8ixs92X17BL0",
        "colab_type": "code",
        "colab": {
          "base_uri": "https://localhost:8080/",
          "height": 34
        },
        "outputId": "c9b94eba-fb72-4952-d6b3-e392ce42c3ed"
      },
      "source": [
        "e=model.layers[0]\n",
        "weights=e.get_weights()[0]\n",
        "print(weights.shape)"
      ],
      "execution_count": null,
      "outputs": [
        {
          "output_type": "stream",
          "text": [
            "(50000, 16)\n"
          ],
          "name": "stdout"
        }
      ]
    },
    {
      "cell_type": "code",
      "metadata": {
        "id": "tzjJuiJv9vua",
        "colab_type": "code",
        "colab": {}
      },
      "source": [
        "word_index=tokenizer.word_index"
      ],
      "execution_count": null,
      "outputs": []
    },
    {
      "cell_type": "code",
      "metadata": {
        "id": "Hj7EJU4X9Ub1",
        "colab_type": "code",
        "colab": {}
      },
      "source": [
        "reverse_word_index=dict([(value,key) for (key,value) in word_index.items()])"
      ],
      "execution_count": null,
      "outputs": []
    },
    {
      "cell_type": "code",
      "metadata": {
        "id": "apQfzGVI945a",
        "colab_type": "code",
        "colab": {}
      },
      "source": [
        "import io\n",
        "out_v=io.open('vecs2.tsv','w',encoding='utf-8')\n",
        "out_m=io.open('meta2.tsv','w',encoding='utf-8')\n",
        "for word_num in range(1,vocab_size):\n",
        "   word=reverse_word_index[word_num]\n",
        "   embedding=weights[word_num]\n",
        "   out_m.write(word+\"\\n\")\n",
        "   out_v.write('\\t'.join([str(x) for x in embedding])+\"\\n\")\n",
        "out_v.close()\n",
        "out_m.close()"
      ],
      "execution_count": null,
      "outputs": []
    },
    {
      "cell_type": "code",
      "metadata": {
        "id": "5yPCDvdOBN1u",
        "colab_type": "code",
        "colab": {
          "base_uri": "https://localhost:8080/",
          "height": 185
        },
        "outputId": "60c62b74-6d51-4edf-f53e-776f3ef14342"
      },
      "source": [
        "print(word_index)"
      ],
      "execution_count": null,
      "outputs": [
        {
          "output_type": "stream",
          "text": [
            "IOPub data rate exceeded.\n",
            "The notebook server will temporarily stop sending output\n",
            "to the client in order to avoid crashing it.\n",
            "To change this limit, set the config variable\n",
            "`--NotebookApp.iopub_data_rate_limit`.\n",
            "\n",
            "Current values:\n",
            "NotebookApp.iopub_data_rate_limit=1000000.0 (bytes/sec)\n",
            "NotebookApp.rate_limit_window=3.0 (secs)\n",
            "\n"
          ],
          "name": "stderr"
        }
      ]
    },
    {
      "cell_type": "code",
      "metadata": {
        "id": "FbbJfGUDK60V",
        "colab_type": "code",
        "colab": {
          "base_uri": "https://localhost:8080/",
          "height": 84
        },
        "outputId": "1115296b-e120-447e-9125-a4b22cf914db"
      },
      "source": [
        "value = ['fun & quality']\n",
        "#vectorizing\n",
        "value = tokenizer.texts_to_sequences(value)\n",
        "#padding \n",
        "value = pad_sequences(value, maxlen=28, dtype='int32', value=0)\n",
        "print(value)\n",
        "sentiment = model.predict(value,batch_size=1,verbose = 2)[0]\n",
        "print(sentiment)"
      ],
      "execution_count": null,
      "outputs": [
        {
          "output_type": "stream",
          "text": [
            "[[ 0  0  0  0  0  0  0  0  0  0  0  0  0  0  0  0  0  0  0  0  0  0  0  0\n",
            "   0  0 25 73]]\n",
            "1/1 - 0s\n",
            "[0.91926616]\n"
          ],
          "name": "stdout"
        }
      ]
    },
    {
      "cell_type": "code",
      "metadata": {
        "id": "YNTTb46NXUhD",
        "colab_type": "code",
        "colab": {
          "base_uri": "https://localhost:8080/",
          "height": 34
        },
        "outputId": "90454812-5786-47da-ab4d-8d27a1b4622f"
      },
      "source": [
        "y_pred = model.predict_classes(value)\n",
        "y_pred[0]\n",
        "if y_pred[0]==[1]:\n",
        "  print(\"positive\")\n",
        "else:\n",
        "  print(\"negative\")"
      ],
      "execution_count": null,
      "outputs": [
        {
          "output_type": "stream",
          "text": [
            "positive\n"
          ],
          "name": "stdout"
        }
      ]
    }
  ]
}